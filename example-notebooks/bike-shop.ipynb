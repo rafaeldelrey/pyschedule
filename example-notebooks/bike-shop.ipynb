{
 "cells": [
  {
   "cell_type": "markdown",
   "metadata": {},
   "source": [
    "# Alice and Bob optimize their bike paint shop with pyschedule"
   ]
  },
  {
   "cell_type": "markdown",
   "metadata": {},
   "source": [
    "Alice and Bob are running a paint shop for bikes where they pimp bikes with fresh colors. Today they have to paint a green and a red bike. To get started they import pyschedule and create a new scenario. We use hours as granularity and expect a working day of at most 10 hours, so we set the planning horizon to 10. Some solvers do not need this parameter, but the default solver requires it:"
   ]
  },
  {
   "cell_type": "code",
   "execution_count": null,
   "metadata": {},
   "outputs": [],
   "source": [
    "from pyschedule import Scenario, solvers, plotters\n",
    "S = Scenario('bike_paint_shop', horizon=10)"
   ]
  },
  {
   "cell_type": "markdown",
   "metadata": {},
   "source": [
    "Then they create themselves as resources:"
   ]
  },
  {
   "cell_type": "code",
   "execution_count": null,
   "metadata": {},
   "outputs": [],
   "source": [
    "Alice = S.Resource('Alice')\n",
    "Bob = S.Resource('Bob')"
   ]
  },
  {
   "cell_type": "markdown",
   "metadata": {},
   "source": [
    "Painting a bike takes two hours. Moreover, after the bike has been painted, it needs to get post-processed (e.g. tires pumped) which takes one hour (which is the default). This translates into four tasks in total:"
   ]
  },
  {
   "cell_type": "code",
   "execution_count": null,
   "metadata": {},
   "outputs": [],
   "source": [
    "green_paint, red_paint = S.Task('green_paint', length=2), S.Task('red_paint', length=2)\n",
    "green_post, red_post = S.Task('green_post'), S.Task('red_post')"
   ]
  },
  {
   "cell_type": "markdown",
   "metadata": {},
   "source": [
    "Clearly, one can only do the post-processing after the painting with an arbitrary gap in between. For the red paint we are a little stricter, here we want to start the post-processing exactly one hour after the painting since this is the time the color takes to dry:"
   ]
  },
  {
   "cell_type": "code",
   "execution_count": null,
   "metadata": {},
   "outputs": [],
   "source": [
    "S += green_paint < green_post, red_paint + 1 <= red_post"
   ]
  },
  {
   "cell_type": "markdown",
   "metadata": {},
   "source": [
    "Each task can be done by either Alice or Bob:"
   ]
  },
  {
   "cell_type": "code",
   "execution_count": null,
   "metadata": {},
   "outputs": [],
   "source": [
    "green_paint += Alice|Bob\n",
    "green_post += Alice|Bob\n",
    "\n",
    "red_paint += Alice|Bob\n",
    "red_post += Alice|Bob"
   ]
  },
  {
   "cell_type": "markdown",
   "metadata": {},
   "source": [
    "So lets have a look at the scenario:"
   ]
  },
  {
   "cell_type": "code",
   "execution_count": null,
   "metadata": {},
   "outputs": [],
   "source": [
    "S.clear_solution()\n",
    "print(S)"
   ]
  },
  {
   "cell_type": "markdown",
   "metadata": {},
   "source": [
    "We havent defined an objective yet. We want to finish all tasks as early as possible, and so we use the MakeSpan and check the scenario again:"
   ]
  },
  {
   "cell_type": "code",
   "execution_count": null,
   "metadata": {},
   "outputs": [],
   "source": [
    "S.use_makespan_objective()\n",
    "print(S)"
   ]
  },
  {
   "cell_type": "markdown",
   "metadata": {},
   "source": [
    "Hence, we want to minimize the position of the MakeSpan task subject to the constraint that it is scheduled after all other tasks. Thus, the position of the MakeSpan is the length of our schedule. Now we have the first version of our scenario, lets solve and plot it:"
   ]
  },
  {
   "cell_type": "code",
   "execution_count": null,
   "metadata": {},
   "outputs": [],
   "source": [
    "# Set some colors for the tasks\n",
    "task_colors = { green_paint   : '#A1D372',\n",
    "                green_post    : '#A1D372', \n",
    "                red_paint     : '#EB4845',\n",
    "                red_post      : '#EB4845',\n",
    "                S['MakeSpan'] : '#7EA7D8'}\n",
    "\n",
    "# A small helper method to solve and plot a scenario\n",
    "def run(S) :\n",
    "    if solvers.mip.solve(S):\n",
    "        plotters.plotly.plot(S)\n",
    "    else:\n",
    "        print('no solution exists')\n",
    "run(S)"
   ]
  },
  {
   "cell_type": "markdown",
   "metadata": {
    "collapsed": true
   },
   "source": [
    "Note that it could happen that somebody needs to paints the red bike and then do the green post-processing. This would be annoying, switching bikes takes too much time. We use the following constraints to ensure that the green/red painting and post-processing is always done by the same persons:"
   ]
  },
  {
   "cell_type": "code",
   "execution_count": null,
   "metadata": {},
   "outputs": [],
   "source": [
    "# green_post will use the same resources as green_paint if there is an overlap in resource requirement\n",
    "green_post += green_paint*[Alice,Bob]\n",
    "# same for red_post and red_paint\n",
    "red_post += red_paint*[Alice,Bob]\n",
    "\n",
    "run(S)"
   ]
  },
  {
   "cell_type": "markdown",
   "metadata": {},
   "source": [
    "This schedule completes after four hours and suggests to paint both bikes at the same time. However, Alice and Bob have only a single paint shop which they need to share:"
   ]
  },
  {
   "cell_type": "code",
   "execution_count": null,
   "metadata": {},
   "outputs": [],
   "source": [
    "Paint_Shop = S.Resource('Paint_Shop')\n",
    "red_paint += Paint_Shop\n",
    "green_paint += Paint_Shop\n",
    "run(S)"
   ]
  },
  {
   "cell_type": "markdown",
   "metadata": {
    "collapsed": true
   },
   "source": [
    "Great, everybody can still go home after five hours and have a late lunch! Unfortunately, Alice receives a call that the red bike will only arrive after two hours:"
   ]
  },
  {
   "cell_type": "code",
   "execution_count": null,
   "metadata": {},
   "outputs": [],
   "source": [
    "S += red_paint > 2\n",
    "run(S)"
   ]
  },
  {
   "cell_type": "markdown",
   "metadata": {
    "collapsed": true
   },
   "source": [
    "Too bad, everything takes now size hours to finish. Therefore Alica and Bob decide to schedule a lunch after the third hour and before the fifth hour:"
   ]
  },
  {
   "cell_type": "code",
   "execution_count": null,
   "metadata": {},
   "outputs": [],
   "source": [
    "Lunch = S.Task('Lunch')\n",
    "Lunch += {Alice, Bob}\n",
    "S += Lunch > 3, Lunch < 5\n",
    "task_colors[Lunch] = '#7EA7D8'\n",
    "S.clear_objective() #we need to remove the objective and readd it because of the new lunch task\n",
    "S.use_makespan_objective()\n",
    "task_colors[S['MakeSpan']] = '#7EA7D8'\n",
    "run(S)"
   ]
  },
  {
   "cell_type": "markdown",
   "metadata": {},
   "source": [
    "Alice is a morning person and  wants to finish three hours of work before lunch, that is, before the third hour:"
   ]
  },
  {
   "cell_type": "code",
   "execution_count": null,
   "metadata": {},
   "outputs": [],
   "source": [
    "S += Alice['length'][0:3] >= 3\n",
    "run(S)"
   ]
  },
  {
   "cell_type": "markdown",
   "metadata": {},
   "source": [
    "The weather forecast is really good for the afternoon, so Alice and Bob decide to close the shop after lunch, that is, they fix the horizon to 5 hours. Unfortunately, the following happens:"
   ]
  },
  {
   "cell_type": "code",
   "execution_count": null,
   "metadata": {},
   "outputs": [],
   "source": [
    "S.horizon = 5\n",
    "run(S)"
   ]
  },
  {
   "cell_type": "markdown",
   "metadata": {},
   "source": [
    "This happens because there is not enough time to finish all task. Therefore, they need to priorize: Lets say the green bike gives a reward of 100 when finished while the red one only 50, which corresponds to negative schedule cost:"
   ]
  },
  {
   "cell_type": "code",
   "execution_count": null,
   "metadata": {},
   "outputs": [],
   "source": [
    "green_post.schedule_cost = -100 #negative schedule cost correspond to a reward for scheduling that task\n",
    "green_paint.schedule_cost = 0 #we need to make the paint steps optional by setting the reward to 0\n",
    "red_post.schedule_cost = -50\n",
    "red_paint.schedule_cost = 0\n",
    "\n",
    "# tasks are optional, but we only want to have the post-processing scheduled if there is some painting\n",
    "red_paint += red_post\n",
    "green_paint += green_post\n",
    "run(S)"
   ]
  },
  {
   "cell_type": "markdown",
   "metadata": {},
   "source": [
    "All this sounds quite trivial, but think about the same problem with many bikes and many persons!"
   ]
  }
 ],
 "metadata": {
  "anaconda-cloud": {},
  "kernelspec": {
   "display_name": "Python 3",
   "language": "python",
   "name": "python3"
  },
  "language_info": {
   "codemirror_mode": {
    "name": "ipython",
    "version": 3
   },
   "file_extension": ".py",
   "mimetype": "text/x-python",
   "name": "python",
   "nbconvert_exporter": "python",
   "pygments_lexer": "ipython3",
   "version": "3.7.8"
  }
 },
 "nbformat": 4,
 "nbformat_minor": 1
}
