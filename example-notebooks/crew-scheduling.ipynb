{
 "cells": [
  {
   "cell_type": "markdown",
   "metadata": {},
   "source": [
    "# Crew Scheduling\n",
    "\n"
   ]
  },
  {
   "cell_type": "markdown",
   "metadata": {
    "collapsed": true
   },
   "source": [
    "We consider 6 days with 4 places and want to schedule a bunch of flights connecting the places. One crew starts and ends at each place. The goal is to maximize the number of scheduled flights. All gaps in the schedule of a crew have to be filled with stays at the respective places. We give the gaps a higher negative completion time cost (-2) than the flights (-1) to ensure that scheduling flights has priority compared to scheduling stays. Because all completion time costs are negative, all non-scheduled tasks are pushed to the end of the planning horizon."
   ]
  },
  {
   "cell_type": "code",
   "execution_count": null,
   "metadata": {},
   "outputs": [],
   "source": [
    "import sys;sys.path.append('../src')\n",
    "\n",
    "n_days = 6\n",
    "days = range(n_days)\n",
    "places = ['A','B','C','D']\n",
    "crews = [ 'Crew_%s'%place for place in places ]\n",
    "\n",
    "# Number of flights for each orig-dest pair\n",
    "flights =\\\n",
    "{\n",
    "('A','B') : 2,\n",
    "('B','C') : 2,\n",
    "('C','D') : 2,\n",
    "('D','A') : 3,\n",
    "('A','C') : 2,\n",
    "('B','D') : 2\n",
    "}\n",
    "\n",
    "# Stays have to fill gaps, at most n_days-2 gaps can happen\n",
    "stays =\\\n",
    "{\n",
    "'A' : n_days-2,\n",
    "'B' : n_days-2,\n",
    "'C' : n_days-2,\n",
    "'D' : n_days-2\n",
    "}"
   ]
  },
  {
   "cell_type": "markdown",
   "metadata": {},
   "source": [
    "# Solving"
   ]
  },
  {
   "cell_type": "code",
   "execution_count": null,
   "metadata": {},
   "outputs": [],
   "source": [
    "from pyschedule import Scenario, solvers, plotters, alt\n",
    "\n",
    "# Create employee scheduling scenari\n",
    "S = Scenario('crew_scheduling',horizon=2*n_days)\n",
    "\n",
    "# Create crew resources\n",
    "for crew in crews:\n",
    "    S.Resource(crew)\n",
    "\n",
    "# Create flight tasks\n",
    "for orig,dest in flights.keys():\n",
    "    for i in range(flights[orig,dest]):\n",
    "        flight = S.Task('%s_%s_%i'%(orig,dest,i))\n",
    "        flight.orig = orig\n",
    "        flight.dest = dest\n",
    "        flight += alt( S.resources() )\n",
    "        # Push flight to end of planning horizon\n",
    "        S += flight*-1\n",
    "\n",
    "# Create start and end tasks of crews\n",
    "for crew in crews:\n",
    "    # Start task\n",
    "    start = S.Task('first_%s'%crew[-1])\n",
    "    start.dest = crew[-1]\n",
    "    start.orig = None\n",
    "    start += S[crew]\n",
    "    S += start >= 0\n",
    "    # End task\n",
    "    end = S.Task('last_%s'%crew[-1])\n",
    "    end.orig = crew[-1]\n",
    "    end.dest = None\n",
    "    end += S[crew]\n",
    "    S += end <= n_days\n",
    "\n",
    "# Create stay tasks\n",
    "for place in stays:\n",
    "    for i in range(stays[place]):\n",
    "        stay = S.Task('stay_%s_%i'%(place,i))\n",
    "        stay.orig = place\n",
    "        stay.dest = place\n",
    "        stay += alt( S.resources() )\n",
    "        # Push stay to end of planning horizon (stronger than flights)\n",
    "        S += stay*-2\n",
    "\n",
    "# Connection constraints\n",
    "for crew in crews:\n",
    "    for place in places:\n",
    "        for day in days:\n",
    "            # Ensure that dest and orig are the same of consecutive tasks\n",
    "            select = lambda T,t,place=place,day=day : T.dest==place and t==day or T.orig==place and t==day+1\n",
    "            C = S[crew][select].diff <= 0\n",
    "            # Select a customized name for capacity constraint\n",
    "            C.name = 'Capacity_%s_%s_%i'%(crew,place,day)\n",
    "            S += C\n",
    "\n",
    "# solve and plot problem\n",
    "if solvers.mip.solve(S,msg=1):\n",
    "    %matplotlib inline\n",
    "    plotters.matplotlib.plot(S,fig_size=(12,5))\n",
    "else:\n",
    "    print('no solution found')"
   ]
  }
 ],
 "metadata": {
  "anaconda-cloud": {},
  "kernelspec": {
   "display_name": "Python 3",
   "language": "python",
   "name": "python3"
  },
  "language_info": {
   "codemirror_mode": {
    "name": "ipython",
    "version": 3
   },
   "file_extension": ".py",
   "mimetype": "text/x-python",
   "name": "python",
   "nbconvert_exporter": "python",
   "pygments_lexer": "ipython3",
   "version": "3.7.8"
  }
 },
 "nbformat": 4,
 "nbformat_minor": 1
}
