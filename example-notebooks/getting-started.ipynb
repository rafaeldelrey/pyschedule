{
 "cells": [
  {
   "cell_type": "markdown",
   "metadata": {},
   "source": [
    "# Getting started with pyschedule"
   ]
  },
  {
   "cell_type": "markdown",
   "metadata": {},
   "source": [
    "First import the required modules"
   ]
  },
  {
   "cell_type": "code",
   "execution_count": null,
   "metadata": {},
   "outputs": [],
   "source": [
    "from pyschedule import Scenario, solvers, plotters, alt\n",
    "# following line is required to display matplotlib charts inside a jupyter notebook\n",
    "%matplotlib inline"
   ]
  },
  {
   "cell_type": "markdown",
   "metadata": {},
   "source": [
    "## Scenario 1: A simple pyschedule scenario where three houshold tasks need to get assigned to two persons, Alice and Bob"
   ]
  },
  {
   "cell_type": "code",
   "execution_count": null,
   "metadata": {},
   "outputs": [],
   "source": [
    "# the planning horizon has 10 periods\n",
    "S = Scenario('household', horizon=10)\n",
    "\n",
    "# two resources: Alice and Bob\n",
    "Alice, Bob = S.Resource('Alice'), S.Resource('Bob')\n",
    "\n",
    "# three tasks: cook, wash, and clean\n",
    "cook = S.Task('cook', length=1, delay_cost=1)\n",
    "wash = S.Task('wash', length=2, delay_cost=1)\n",
    "clean = S.Task('clean', length=3, delay_cost=2)\n",
    "\n",
    "# every task can be done either by Alice or Bob\n",
    "cook += Alice | Bob\n",
    "wash += Alice | Bob\n",
    "clean += Alice | Bob\n",
    "\n",
    "# compute and print a schedule\n",
    "solvers.mip.solve(S, msg=False)\n",
    "print(S.solution())"
   ]
  },
  {
   "cell_type": "markdown",
   "metadata": {},
   "source": [
    "Note that you can explore the MILP, by setting the parameter `msg` to True"
   ]
  },
  {
   "cell_type": "code",
   "execution_count": null,
   "metadata": {},
   "outputs": [],
   "source": [
    "solvers.mip.solve(S, msg=True)"
   ]
  },
  {
   "cell_type": "markdown",
   "metadata": {},
   "source": [
    "We can also plot the schedule as a GANTT-chart with matplotlib"
   ]
  },
  {
   "cell_type": "code",
   "execution_count": null,
   "metadata": {},
   "outputs": [],
   "source": [
    "plotters.matplotlib.plot(S)"
   ]
  },
  {
   "cell_type": "markdown",
   "metadata": {},
   "source": [
    "The GANTT-chart can also be displayed using plotly, in a more user-friendly way"
   ]
  },
  {
   "cell_type": "code",
   "execution_count": null,
   "metadata": {},
   "outputs": [],
   "source": [
    "plotters.plotly.plot(S)"
   ]
  },
  {
   "cell_type": "markdown",
   "metadata": {},
   "source": [
    "## Limits\n",
    "\n",
    "Note that pyschedule aims to be *a general solver for small to medium-sized scheduling problems*. A typical scenario that pyschedule consists of 10 resources and 100 tasks with a planning horizon of 100 periods. If your requirements are much larger than this, then an out-of-the box solution is hard to obtain. There are some ways to speed-up pyschedule (e.g. see task groups and solver parameters). It is also possible to build heuristics on top of pyschedule to solve large-scaled scheduling problems.\n",
    "\n",
    "## Scenario 2: How to start\n",
    "\n",
    "First create the Scenario as follows:"
   ]
  },
  {
   "cell_type": "code",
   "execution_count": null,
   "metadata": {},
   "outputs": [],
   "source": [
    "S2 = Scenario('hello_world', horizon=10)"
   ]
  },
  {
   "cell_type": "markdown",
   "metadata": {},
   "source": [
    "This scenario is named `hello_world` and has a time horizon of 10 periods. The granularity of the periods depends on your problem, e.g. a period could be an hour, a week, or a day. However, having far more than 100 periods makes the computation of a schedule quite hard. Some tricks to reduce the number of periods are:\n",
    "\n",
    "-   Remove periods which are not used, like hours during the night.\n",
    "-   Move to a higher granularity, e.g. try a granularity of 2 hours instead of 1 hour and *round* tasks *up* if necessary.\n",
    "\n",
    "We need at least one resource in a scenario:"
   ]
  },
  {
   "cell_type": "code",
   "execution_count": null,
   "metadata": {},
   "outputs": [],
   "source": [
    "R = S2.Resource('R')"
   ]
  },
  {
   "cell_type": "markdown",
   "metadata": {},
   "source": [
    "It is convenient to have identical resource and variable names, like `R`. During each period, some task can be schedule this period. A resource can be anything from a person to an object like a machine in a factory. It is only required that a resource can be used by at most one task in every period.\n",
    "\n",
    "Next we add a task to the scenario:"
   ]
  },
  {
   "cell_type": "code",
   "execution_count": null,
   "metadata": {},
   "outputs": [],
   "source": [
    "T = S2.Task('T', length=1, delay_cost=1)"
   ]
  },
  {
   "cell_type": "markdown",
   "metadata": {},
   "source": [
    "This task has length 1, that is, it requires only 1 period to finish. Since 1 is the default length of a task, we would not have to set this explicitly. Moreover, we set the delay cost to 1, that is, delaying this job for one period increases the *cost* of a schedule by 1, which motivates to finish this task as early as possible.\n",
    "\n",
    "We define that task `T` requires resource `R` as follows:"
   ]
  },
  {
   "cell_type": "code",
   "execution_count": null,
   "metadata": {},
   "outputs": [],
   "source": [
    "T += R"
   ]
  },
  {
   "cell_type": "markdown",
   "metadata": {},
   "source": [
    "The model can be displayed as follows"
   ]
  },
  {
   "cell_type": "code",
   "execution_count": null,
   "metadata": {},
   "outputs": [],
   "source": [
    "print(S2)"
   ]
  },
  {
   "cell_type": "markdown",
   "metadata": {},
   "source": [
    "Then we compute and print a schedule as follows:"
   ]
  },
  {
   "cell_type": "code",
   "execution_count": null,
   "metadata": {},
   "outputs": [],
   "source": [
    "solvers.mip.solve(S2, msg=False)\n",
    "print(S2.solution())"
   ]
  },
  {
   "cell_type": "markdown",
   "metadata": {},
   "source": [
    "The output first shows the time required to solve the problem. Also the objective is plotted. Since the cost of this schedule is only the delay cost of task `T`, which is schedule in period 0, the total cost is 0 as well. The standard way to present a schedule is a list of task-resource pairs with time requirements. E.g. the output above says that task `T` should be scheduled on resource `R` from period 0 to 1.\n",
    "\n",
    "## Costs\n",
    "\n",
    "It is not necessary to define cost in a scenario. In this case, a solver will simply try to find a feasible schedule. Not defining any cost will sometimes even speed up the computation. However, in most scenarios, setting at least some delay cost makes sense.\n",
    "\n",
    "### Delay Cost\n",
    "\n",
    "We set the delay cost of a task to 1 as follows:"
   ]
  },
  {
   "cell_type": "code",
   "execution_count": null,
   "metadata": {},
   "outputs": [],
   "source": [
    "T = S.Task('T', delay_cost=1)"
   ]
  },
  {
   "cell_type": "markdown",
   "metadata": {},
   "source": [
    "This means that if this task is scheduled in period 0, then there will no delay cost, if it is schedule in period 1, there will be total cost 1 and so on. Hence, it makes sense to schedule this task as early as possible. Note that delay cost can also be negative, in which case a task will be *pushed* to the end of a schedule. Also note that a task with a higher delay cost is more likely to be scheduled earlier if there are no other constraints that are preventing this. The default delay cost is `None`.\n",
    "\n",
    "### Scenario 3: Schedule Cost\n",
    "\n",
    "Schedule cost can be used for optional tasks, that is, we provide some positive or negative reward if a task is scheduled:"
   ]
  },
  {
   "cell_type": "code",
   "execution_count": null,
   "metadata": {},
   "outputs": [],
   "source": [
    "S3 = Scenario('schedule_cost', horizon=10)\n",
    "R = S3.Resource('R')\n",
    "\n",
    "# not setting a schedule cost will set it to None\n",
    "T0 = S3.Task('T0', length=2, delay_cost=1)\n",
    "# setting the schedule cost of T1 to -1\n",
    "T1 = S3.Task('T1', length=2, delay_cost=1, schedule_cost=-1)\n",
    "\n",
    "T0 += R\n",
    "T1 += R\n",
    "solvers.mip.solve(S3)\n",
    "print(S3.solution())"
   ]
  },
  {
   "cell_type": "markdown",
   "metadata": {},
   "source": [
    "In the schedule above, scheduling task `T1` with schedule cost -1 would decrease the total cost by 1, but then we would have to schedule both tasks `T0` and `T1`, and hence one of them would have to start in period 2. This would result an additional delay cost of 2. Consequently, it makes more sense not to schedule `T1`.\n",
    "\n",
    "### Scenario 4: Resource Cost\n",
    "\n",
    "Using a resource for some periods might imply additional resource cost:"
   ]
  },
  {
   "cell_type": "code",
   "execution_count": null,
   "metadata": {},
   "outputs": [],
   "source": [
    "S4 = Scenario('resource_cost', horizon=10)\n",
    "\n",
    "# assign a cost per period of 5\n",
    "R = S4.Resource('R', cost_per_period=5)\n",
    "\n",
    "T = S4.Task('T', length=2, delay_cost=1)\n",
    "T += R\n",
    "solvers.mip.solve(S4)\n",
    "print(S4.solution())"
   ]
  },
  {
   "cell_type": "markdown",
   "metadata": {},
   "source": [
    "The total cost of the computed schedule is 5 although the single task is scheduled in the first period. This is due to the fact that scheduling any task costs 5 on resource `R`.\n",
    "\n",
    "## Scenario 5: Task and Resource Lists\n",
    "\n",
    "To simplify the definition of tasks, it is possible to define task lists:"
   ]
  },
  {
   "cell_type": "code",
   "execution_count": null,
   "metadata": {},
   "outputs": [],
   "source": [
    "S5 = Scenario('many_tasks', horizon=10)\n",
    "\n",
    "# create 5 tasks of the same type\n",
    "T = S5.Tasks('T', num=5, length=1, delay_cost=1)\n",
    "\n",
    "print(T)"
   ]
  },
  {
   "cell_type": "markdown",
   "metadata": {},
   "source": [
    "We created 5 tasks of length 1 and delay cost 1. The index of the tasks is padded to the end of the given task name. Therefore, avoid task names ending with digits. Note that it would also be possible to create all tasks separately. But if they are similar, this simplifies the definition of scheduling problems. Finally, we can similarly define lists of resources:"
   ]
  },
  {
   "cell_type": "code",
   "execution_count": null,
   "metadata": {},
   "outputs": [],
   "source": [
    "# create 5 resources of the same type\n",
    "R = S5.Resources('R', num=5)\n",
    "print(R)"
   ]
  },
  {
   "cell_type": "markdown",
   "metadata": {},
   "source": [
    "## Scenario 6: Resource Assignment\n",
    "\n",
    "It is possible to assign multiple resources to a task, either we define that *one* of these resources is required or *all*:"
   ]
  },
  {
   "cell_type": "code",
   "execution_count": null,
   "metadata": {},
   "outputs": [],
   "source": [
    "S6 = Scenario('resources_assignment', horizon=10)\n",
    "\n",
    "R = S6.Resources('R', num=2)\n",
    "T = S6.Tasks('T',num=2, delay_cost=1)\n",
    "\n",
    "# T0 requires either resource R0 or R1\n",
    "T[0] += R[0] | R[1]\n",
    "\n",
    "# T1 requires resources R0 and R1\n",
    "T[1] += R[0], R[1]\n",
    "\n",
    "# print the resources requirement\n",
    "print(T[0].resources_req)\n",
    "print(T[1].resources_req)"
   ]
  },
  {
   "cell_type": "markdown",
   "metadata": {},
   "source": [
    "Note that if we have a list of resources, like above, we can also use the `alt`-operator:"
   ]
  },
  {
   "cell_type": "code",
   "execution_count": null,
   "metadata": {},
   "outputs": [],
   "source": [
    "T[0] += alt(R)\n",
    "\n",
    "# T1 requires all of the resources\n",
    "T1 += R"
   ]
  },
  {
   "cell_type": "markdown",
   "metadata": {},
   "source": [
    "Now we can solve this scenario"
   ]
  },
  {
   "cell_type": "code",
   "execution_count": null,
   "metadata": {},
   "outputs": [],
   "source": [
    "solvers.mip.solve(S6, msg=False)\n",
    "print(S6.solution())"
   ]
  },
  {
   "cell_type": "markdown",
   "metadata": {},
   "source": [
    "Therefore, `T0` is scheduled on resource `R0` in period 0 and `T1` on resources `R0` and `R1` in period 1.\n",
    "\n",
    "### Scenario 7: Resource Dependencies\n",
    "\n",
    "It is often necessary to ensure that two tasks select the same resources:"
   ]
  },
  {
   "cell_type": "code",
   "execution_count": null,
   "metadata": {},
   "outputs": [],
   "source": [
    "S7 = Scenario('resources_dep', horizon=10)\n",
    "\n",
    "R = S7.Resources('R', num=2)\n",
    "T = S7.Tasks('T', num=2, delay_cost=1)\n",
    "\n",
    "# assign all resources to both resources\n",
    "T += alt(R)\n",
    "\n",
    "# if T[1] is assigned to any resource in R, then also T[0]\n",
    "T[0] += T[1] * R\n",
    "\t\n",
    "# plot the resource dependencies of task T0\n",
    "print(T[0].tasks_req)"
   ]
  },
  {
   "cell_type": "markdown",
   "metadata": {},
   "source": [
    "Now we can solve this scenario"
   ]
  },
  {
   "cell_type": "code",
   "execution_count": null,
   "metadata": {},
   "outputs": [],
   "source": [
    "solvers.mip.solve(S7)\n",
    "print(S7.solution())"
   ]
  },
  {
   "cell_type": "markdown",
   "metadata": {},
   "source": [
    "It would be better to distribute the two tasks to the two resources. However, due to the defined resource dependencies, they must be assigned to the same one.\n",
    "\n",
    "## Scenario 8: Restricting Periods\n",
    "\n",
    "We can restrict the periods when a job can be scheduled or when resource is available:"
   ]
  },
  {
   "cell_type": "code",
   "execution_count": null,
   "metadata": {},
   "outputs": [],
   "source": [
    "S8 = Scenario('periods', horizon=10)\n",
    "\n",
    "# restrict the periods to 2 and 3\n",
    "T = S8.Task('T', length=1, periods=[3,4])\n",
    "\n",
    "# restrict the periods to the range 1..3\n",
    "R = S8.Resource('R', periods=range(1,4))\n",
    "T += R\n",
    "solvers.mip.solve(S8)\n",
    "print(S8.solution())"
   ]
  },
  {
   "cell_type": "markdown",
   "metadata": {},
   "source": [
    "Clearly, due to the periods restrictions, the only possible period to schedule task `T` is 3.\n",
    "\n",
    "## Scenario 9: Bounds\n",
    "\n",
    "Another way to restrict the periods when a task can be scheduled are bounds:"
   ]
  },
  {
   "cell_type": "code",
   "execution_count": null,
   "metadata": {},
   "outputs": [],
   "source": [
    "S9 = Scenario('bounds', horizon=10)\n",
    "T = S9.Task('T', length=1, delay_cost=1)\n",
    "R = S9.Resource('R')\n",
    "T += R\n",
    "\n",
    "# add the constraints that T needs to get schedule after period 1 but before 5\n",
    "S9 += T > 1, T < 5\n",
    "\n",
    "solvers.mip.solve(S9)\n",
    "print(S9.solution())"
   ]
  },
  {
   "cell_type": "markdown",
   "metadata": {},
   "source": [
    "This constraint is a *lax* bound, that is, task `T` can be schedule in any point after period 1. If we want to enforce when exactly `T` is scheduled, we can use a *tight* bound. E.g. to force `T` to be schedule exactly after period 1, we can write:"
   ]
  },
  {
   "cell_type": "code",
   "execution_count": null,
   "metadata": {},
   "outputs": [],
   "source": [
    "S9 += T >= 1"
   ]
  },
  {
   "cell_type": "markdown",
   "metadata": {},
   "source": [
    "## Scenarios 10 and 11: Precedences\n",
    "\n",
    "Tasks often need to get scheduled in a certain order:"
   ]
  },
  {
   "cell_type": "code",
   "execution_count": null,
   "metadata": {},
   "outputs": [],
   "source": [
    "S10 = Scenario('lax_precedence', horizon=10)\n",
    "R = S10.Resource('R')\n",
    "T = S10.Tasks('T', num=2, length=1, delay_cost=1)\n",
    "T += R\n",
    "\n",
    "# give T0 a higher delay cost\n",
    "T[0].delay_cost = 2\n",
    "# add a precedence constraint to ensure that it is still scheduled one period after T1 finishes\n",
    "S10 += T[1] + 1 < T[0] \n",
    "\n",
    "solvers.mip.solve(S10)\n",
    "print(S10.solution())"
   ]
  },
  {
   "cell_type": "markdown",
   "metadata": {},
   "source": [
    "Since task `T0` is delayed two periods, we get a total delay cost of 4. If we would not have the precedence constraint, we could schedule `T0` first and only get delay cost 1. Note that the `+ 1` is optional.\n",
    "\n",
    "We call this a *lax* precedence constraint. Similarly to tight bounds, *tight* precedence constraints additionally ensure that jobs are executed directly after each other:"
   ]
  },
  {
   "cell_type": "code",
   "execution_count": null,
   "metadata": {},
   "outputs": [],
   "source": [
    "S11 = Scenario('tight_precedence', horizon=10)\n",
    "R = S11.Resource('R')\n",
    "T = S11.Tasks('T', num=2, length=1, delay_cost=2)\n",
    "T += R\n",
    "\n",
    "# give T0 a negative delay cost\n",
    "T[0].delay_cost = -1 \n",
    "# ensure that T[0] is scheduled exactly two periods after T[1]\n",
    "S11 += T[1] + 2 <= T[0] \n",
    "\n",
    "solvers.mip.solve(S11)\n",
    "print(S11.solution())"
   ]
  },
  {
   "cell_type": "markdown",
   "metadata": {},
   "source": [
    "Since `T0` has negative delay cost, it would be pushed to the end of the schedule, but the tight precedence constraint ensures that it is scheduled two periods after `T1` finishes. If the delay cost of `T1` would be smaller than `T0`, than both tasks would be pushed to the end of the schedule.\n",
    "\n",
    "### Scenario 12: Conditional Precedences\n",
    "\n",
    "It is often required that precedence constraints are only applied if two tasks are assigned to the same resource, e.g. if we want to ensure that a certain task is the last one that runs on some resource:\n"
   ]
  },
  {
   "cell_type": "code",
   "execution_count": null,
   "metadata": {},
   "outputs": [],
   "source": [
    "S12 = Scenario('cond_precedence', horizon=10)\n",
    "R = S12.Resources('R',num=2)\n",
    "\n",
    "T = S12.Task('T', length=1, delay_cost=1)\n",
    "T_final = S12.Tasks('T_final', num=2, length=1, delay_cost=1)\n",
    "T_final[0] += R[0]\n",
    "T_final[1] += R[1]\n",
    "T += alt(R)\n",
    "\n",
    "# conditional precedences\n",
    "S12 += T * R[0] < T_final[0]\n",
    "S12 += T * R[1] < T_final[1]\n",
    "\n",
    "solvers.mip.solve(S12)\n",
    "print(S12.solution())"
   ]
  },
  {
   "cell_type": "markdown",
   "metadata": {},
   "source": [
    "The first conditional precedence implies that if task `T` is scheduled on `R[0]`, then `T_final[0]` is scheduled afterwards. Therefore, it is allowed that `T_final[1]` is scheduled in the same period as `T` since `T` is not scheduled on `R[1]`.\n",
    "\n",
    "## Scenario 13: Capacities\n",
    "\n",
    "Capacity constraints can be used to restrict the number tasks which are executed during a certain time period:"
   ]
  },
  {
   "cell_type": "code",
   "execution_count": null,
   "metadata": {},
   "outputs": [],
   "source": [
    "S13 = Scenario('capacities', horizon=10)\n",
    "R = S13.Resource('R')\n",
    "T = S13.Tasks('T', num=4, length=1, delay_cost=1)\n",
    "T += R\n",
    "\n",
    "# capacity constraint to limit the number of tasks until period 5 to 3\n",
    "S13 += R[0:5] <= 3\n",
    "\n",
    "solvers.mip.solve(S13)\n",
    "print(S13.solution())"
   ]
  },
  {
   "cell_type": "markdown",
   "metadata": {},
   "source": [
    "Due to the capacity constraint, one task is scheduled after period 5. If not defined otherwise, the capacity constraint is applied to the lengths of the task. That is, the sum of lengths of tasks before period 5 is required to be at most 3. We can make this more explicit by writing:"
   ]
  },
  {
   "cell_type": "code",
   "execution_count": null,
   "metadata": {},
   "outputs": [],
   "source": [
    "S13 += R['length'][0:5] <= 3"
   ]
  },
  {
   "cell_type": "markdown",
   "metadata": {},
   "source": [
    "Finally, if we want to bound the maximum instead of the sum, we can write:"
   ]
  },
  {
   "cell_type": "code",
   "execution_count": null,
   "metadata": {},
   "outputs": [],
   "source": [
    "S13 += R['length'][0:5].max <= 3"
   ]
  },
  {
   "cell_type": "markdown",
   "metadata": {},
   "source": [
    "### Scenario 14: Non-unit Tasks\n",
    "\n",
    "Cases where task lengths are larger than one deserve a special treatment:"
   ]
  },
  {
   "cell_type": "code",
   "execution_count": null,
   "metadata": {},
   "outputs": [],
   "source": [
    "S14 = Scenario('capacities', horizon=10)\n",
    "R = S14.Resource('R')\n",
    "\n",
    "# task with non-unit length\n",
    "T = S14.Task('T', length=4, delay_cost=1)\n",
    "T += R\n",
    "\n",
    "S14 += R[0:5] <= 3\n",
    "\n",
    "solvers.mip.solve(S14)\n",
    "print(S14.solution())"
   ]
  },
  {
   "cell_type": "markdown",
   "metadata": {},
   "source": [
    "Task `T` has to start in period 2 because of the capacity constraint. This is possible because the length of the part of this task which lies within the capacity constraint is 3. Specifically, the part scheduled in periods 2,3 and 4. This holds in general, a task contributes to a standard capacity constraint proportionally to how much it *overlaps* with the capacity constraint. This generalizes to user-defined task attributes as described in the next section.\n",
    "\n",
    "### Scenario 15: User-Defined Task Attributes\n",
    "\n",
    "We can apply capacity constraints to all task attributes, not just the task lengths, but also user-defined ones:"
   ]
  },
  {
   "cell_type": "code",
   "execution_count": null,
   "metadata": {},
   "outputs": [],
   "source": [
    "S15 = Scenario('capacities_myattribute', horizon=10)\n",
    "R = S15.Resource('R')\n",
    "\n",
    "# define the additional property named myproperty uniformly as 1\n",
    "T = S15.Tasks('T', num=4, length=1, delay_cost=1, myattribute=1)\n",
    "# set it to 0 for the first task\n",
    "T[0].myattribute = 0\n",
    "T += R\n",
    "\n",
    "# the sum of myproperty must be smaller than 3 until period 5\n",
    "S15 += R['myattribute'][0:5] <= 3\n",
    "\n",
    "solvers.mip.solve(S15)\n",
    "print(S15.solution())"
   ]
  },
  {
   "cell_type": "markdown",
   "metadata": {},
   "source": [
    "Since `T[0]` does not add anything to the sum of the myattribute-values before period 5, all tasks can be scheduled before this period.\n",
    "\n",
    "### Scenario 16: Bounding Differences\n",
    "\n",
    "The default way to aggregate within the range of a capacity constraint is to summarize. On the other hand, if we want to ensure that some attribute does not change too much over time, we can also restrict the sum of differences of this attribute:"
   ]
  },
  {
   "cell_type": "code",
   "execution_count": null,
   "metadata": {},
   "outputs": [],
   "source": [
    "S16 = Scenario('capacities_diff', horizon=10)\n",
    "R = S16.Resource('R')\n",
    "\n",
    "T = S16.Tasks('T', num=4, length=1, delay_cost=1, myattribute=1)\n",
    "T[0].delay_cost = 2\n",
    "T[0].myattribute = 0\n",
    "T[1].delay_cost = 2\n",
    "T[1].myattribute = 0\n",
    "T += R\n",
    " \n",
    "# limit the sum of differences of myattribute to 1\n",
    "S16 += R['myattribute'].diff <= 1\n",
    "\n",
    "solvers.mip.solve(S16)\n",
    "print(S16.solution())"
   ]
  },
  {
   "cell_type": "markdown",
   "metadata": {},
   "source": [
    "Note that if we do not define the range of a capacity constraint like above, then the constraint is applied to the complete time horizon. In the scenario above, it would be advantageous to schedule tasks `T[0]` and `T[1]` as early as possible, since they have a higher delay cost. However, if would schedule them in periods 0 and 1, respectively, and directly afterwards `T[2]` and `T[3]`, then myattribute would first increase by 1 in period 2 and afterwards decrease again by 1 in period 4, resulting in a sum of differences of 2.\n",
    "\n",
    "The `.diff`-capacity constraint limits the sum of increases and decreases. If we only want to limit the increases or decreases, then we can use `.diff_up` or `.diff_down`, respectively.\n",
    "\n",
    "### Scenario 17: Combining Constraints\n",
    "\n",
    "We can combine capacity constraints doing natural arithmetic:"
   ]
  },
  {
   "cell_type": "code",
   "execution_count": null,
   "metadata": {},
   "outputs": [],
   "source": [
    "S17 = Scenario('capacities_arithmetic', horizon=10)\n",
    "R = S17.Resource('R')\n",
    "\n",
    "T = S17.Tasks('T', num=4, length=1, delay_cost=1, myattribute=1)\n",
    "T += R\n",
    " \n",
    "# add two capacities\n",
    "S17 += R['myattribute'][:3] + R['myattribute'][5:7] <= 1\n",
    "\n",
    "solvers.mip.solve(S17)\n",
    "print(S17.solution())"
   ]
  },
  {
   "cell_type": "markdown",
   "metadata": {},
   "source": [
    "Since one task is schedule in period 0, we cannot schedule any more tasks in periods 0 to 2 or in periods 5 to 6 . Therefore, we squeeze in two tasks in periods 3 and 4 and one task in period 7.\n",
    "\n",
    "## Scenario 18: Task Groups\n",
    "\n",
    "There are often task redundancies in a planning project, e.g. there might be a group of tasks which are interchangeable. That is, they could be swapped in the schedule without changing its cost or feasibility. Given this information in the `is_group`-attribute, this can be exploited by the solver to often drastically speed-up the computation:"
   ]
  },
  {
   "cell_type": "code",
   "execution_count": null,
   "metadata": {},
   "outputs": [],
   "source": [
    "S18 = Scenario('task_groups', horizon=10)\n",
    "R = S18.Resource('R')\n",
    "\n",
    "# these tasks are interchangeable\n",
    "T = S18.Tasks('T', num=10, length=1, delay_cost=1, is_group=True)\n",
    "T += R\n",
    "import time\n",
    "init_time = time.perf_counter()\n",
    "solvers.mip.solve(S18)\n",
    "final_time = time.perf_counter()\n",
    "print(S18.solution())\n",
    "print(\"Computation time:\", final_time - init_time)"
   ]
  },
  {
   "cell_type": "markdown",
   "metadata": {},
   "source": [
    "Running this with setting `is_group=False` only slightly increases the running time, but there are scenarios where this difference is much more significant:"
   ]
  },
  {
   "cell_type": "code",
   "execution_count": null,
   "metadata": {},
   "outputs": [],
   "source": [
    "S18bis = Scenario('task_groups', horizon=10)\n",
    "R = S18bis.Resource('R')\n",
    "\n",
    "# these tasks are interchangeable\n",
    "T = S18bis.Tasks('T', num=10, length=1, delay_cost=1, is_group=False)\n",
    "T += R\n",
    "init_time = time.perf_counter()\n",
    "solvers.mip.solve(S18bis)\n",
    "final_time = time.perf_counter()\n",
    "print(S18bis.solution())\n",
    "print(\"Computation time:\", final_time - init_time)"
   ]
  },
  {
   "cell_type": "markdown",
   "metadata": {},
   "source": [
    "## Scenario 19: Resource Sizes\n",
    "**CAUTION**: combining task groups with capacities with resource dependencies might not work in some cases.\n",
    "\n",
    "Consider the case that we have a pool of workers which are interchangeable. To improve the performance of the solver, we can implement this with *larger* resources which can schedule tasks in parallel:"
   ]
  },
  {
   "cell_type": "code",
   "execution_count": null,
   "metadata": {},
   "outputs": [],
   "source": [
    "S19 = Scenario('capacities_arithmetic',horizon=10)\n",
    "\n",
    "# this resource can schedule three tasks in parallel\n",
    "R = S19.Resource('R',size=2)\n",
    "\n",
    "T = S19.Tasks('T',num=4,length=1,delay_cost=1)\n",
    "T += R\n",
    " \n",
    "solvers.mip.solve(S19)\n",
    "print(S19.solution())"
   ]
  },
  {
   "cell_type": "markdown",
   "metadata": {},
   "source": [
    "We see that the always two tasks are scheduled in parallel on the single resource."
   ]
  },
  {
   "cell_type": "markdown",
   "metadata": {},
   "source": [
    "## Solver Parameters\n",
    "\n",
    "The default pyschedule backend is a <a href=\"https://en.wikipedia.org/wiki/Integer_programming\">time-indexed mixed integer formulation (MIP)</a>. There are the following parameters:\n",
    "\n",
    "-   **msg**: show info on/off (default is False)\n",
    "-   **time_limit**: limit the solving time in seconds (default is None)\n",
    "-   **ratio_gap**: stop the solving process when this integrality gap is reached, e.g. 1.2 stands for 20% gap to optimality (default is None)\n",
    "-   **random_seed**: the random seed used by the solver (default is 42)\n",
    "-   **kind**: the Integer Programming backend to use. The default is `CBC` which comes preinstalled with package `pulp`. If <a href=\"http://scip.zib.de/\">SCIP</a> is installed (command `scip` must be running), you can use `SCIP`. Finally, if you have <a href=\"https://www.ibm.com/analytics/data-science/prescriptive-analytics/cplex-optimizer\">CPLEX</a> installed (command `cplex` must be running), you can use `CPLEX`\n",
    "\n",
    "E.g. this could be used as follows:\n",
    "\n",
    "```python\n",
    "solvers.mip.solve(S,kind='CPLEX', time_limit=60, random_seed=42, msg=True)\n",
    "```\n",
    "\n",
    "## Plotter Parameters: matplotlib and plotly\n",
    "\n",
    "The default pyschedule backend to plot a schedule is <a href=\"https://matplotlib.org/\">matplotlib</a>. The parameters are:\n",
    "\n",
    "-   **img_filename**: write the plot as a `.png`-file (default is None)\n",
    "-   **fig_size**: size of the plot (default is (15,5))\n",
    "-   **resource_height**: the height of a resource in the plot (default is 1)\n",
    "-   **show_task_labels**: show the labels of tasks in the plot (default is True)\n",
    "-   **hide_tasks**: list of tasks not to plot (default is [])\n",
    "-   **hide_resources**: list of resources to hide in the plot (default is [])\n",
    "-   **task_colors**: a mapping of tasks to colors (default is empty dictionary)\n",
    "-   **vertical_text**: write the task labels vertically (default if False)\n",
    "\n",
    "E.g. this could be used as follows:\n",
    "\n",
    "```python\n",
    "plotters.matplotlib.plot(S, img_filename='tmp.png', fig_size=(5,5), hide_tasks=[T])\n",
    "```\n",
    "\n",
    "To rather use the plotly library:\n",
    "\n",
    "Some parameters are:\n",
    "\n",
    "-   **hide_tasks**: list of tasks not to plot (default is [])\n",
    "-   **date_init**: a datetime instance (default is None)\n",
    "-   **delta_t**: a timedelta instance (default is None)\n",
    "-   **data_type**: choose the y axis, either 'Task' or (default is 'Resource') "
   ]
  }
 ],
 "metadata": {
  "kernelspec": {
   "display_name": "Python 3",
   "language": "python",
   "name": "python3"
  },
  "language_info": {
   "codemirror_mode": {
    "name": "ipython",
    "version": 3
   },
   "file_extension": ".py",
   "mimetype": "text/x-python",
   "name": "python",
   "nbconvert_exporter": "python",
   "pygments_lexer": "ipython3",
   "version": "3.7.8"
  }
 },
 "nbformat": 4,
 "nbformat_minor": 4
}
