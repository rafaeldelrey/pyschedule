{
 "cells": [
  {
   "cell_type": "markdown",
   "metadata": {},
   "source": [
    "# Sports scheduling"
   ]
  },
  {
   "cell_type": "markdown",
   "metadata": {},
   "source": [
    "In sports scheduling we usually have a bunch of games which are basically tasks requiring the two competing teams and a field as resources, so lets formulate this:"
   ]
  },
  {
   "cell_type": "code",
   "execution_count": null,
   "metadata": {},
   "outputs": [],
   "source": [
    "import sys;sys.path.append('../src')\n",
    "from pyschedule import Scenario, solvers, plotters, alt\n",
    "\n",
    "n_teams = 12 # Number of teams\n",
    "n_fields = int(n_teams/2) # Num of fields\n",
    "n_rounds = n_teams-1 # Number of rounds\n",
    "\n",
    "# Create scenario\n",
    "S = Scenario('sport_scheduling',horizon=n_rounds)\n",
    "\n",
    "# Game tasks\n",
    "Games = { (i,j) : S.Task('Game_%i_%i'%(i,j)) for i in range(n_teams) \n",
    "                                             for j in range(n_teams) if i < j }\n",
    "\n",
    "# Team and field resources\n",
    "Teams =  [ S.Resource('Team_%i'%i) for i in range(n_teams) ]\n",
    "Fields = [ S.Resource('Field_%i'%i) for i in range(n_fields) ]\n",
    "\n",
    "# Resource requirements\n",
    "for i,j in Games :\n",
    "    Games[i,j] += [Teams[i], Teams[j]]\n",
    "    Games[i,j] += alt( Fields )\n",
    "\n",
    "if solvers.mip.solve(S,kind='CBC',msg=True):\n",
    "    %matplotlib inline\n",
    "    plotters.matplotlib.plot(S,hide_resources=Teams,fig_size=(14,5))\n",
    "else:\n",
    "    print('no solution found')\n"
   ]
  },
  {
   "cell_type": "markdown",
   "metadata": {},
   "source": [
    "However, the fields might be quite different, and so it would be unfair if some team needs to play more than twice on any one. We can avoid this by assigning each game a parameter for each team that plays this game and set it to one (here we simply use integers as parameters, this could also be some string in case of more parameters). Finally, we restrict any team parameter to two on any field:"
   ]
  },
  {
   "cell_type": "code",
   "execution_count": null,
   "metadata": {},
   "outputs": [],
   "source": [
    "# Teams in games as task parameters\n",
    "for i,j in Games :\n",
    "    Games[i,j].teams = [i,j]\n",
    "\n",
    "# Each team at most two times per field\n",
    "for j in range(n_fields):\n",
    "    for i in range(n_teams) :\n",
    "        S += Fields[j][lambda T,i=i: i in T.teams] <= 2\n",
    "        \n",
    "if solvers.mip.solve(S,kind='CBC',msg=True): \n",
    "    plotters.matplotlib.plot(S,hide_resources=Teams,fig_size=(12,5))\n",
    "else:\n",
    "    print('no solution found')"
   ]
  },
  {
   "cell_type": "markdown",
   "metadata": {},
   "source": [
    "Sometimes we want to fix some games to specific rounds or fields. Here we fix all games in the middle round (n_fields-1):"
   ]
  },
  {
   "cell_type": "code",
   "execution_count": null,
   "metadata": {},
   "outputs": [],
   "source": [
    "for i in range(n_fields):\n",
    "    # Restrict to specific field\n",
    "    Games[2*i,2*i+1] += Fields[i]\n",
    "    # Start exactly in the middle round\n",
    "    S += Games[2*i,2*i+1] >= n_fields-1\n",
    "\n",
    "\n",
    "if solvers.mip.solve(S,msg=1):\n",
    "    plotters.matplotlib.plot(S,hide_resources=Teams,fig_size=(12,5))\n",
    "else:\n",
    "    print('no solution found')"
   ]
  }
 ],
 "metadata": {
  "anaconda-cloud": {},
  "kernelspec": {
   "display_name": "Python 3",
   "language": "python",
   "name": "python3"
  },
  "language_info": {
   "codemirror_mode": {
    "name": "ipython",
    "version": 3
   },
   "file_extension": ".py",
   "mimetype": "text/x-python",
   "name": "python",
   "nbconvert_exporter": "python",
   "pygments_lexer": "ipython3",
   "version": "3.7.8"
  }
 },
 "nbformat": 4,
 "nbformat_minor": 1
}
