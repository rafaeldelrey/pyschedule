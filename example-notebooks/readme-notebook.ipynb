{
 "cells": [
  {
   "cell_type": "markdown",
   "metadata": {},
   "source": [
    "# pyschedule - resource-constrained scheduling in python"
   ]
  },
  {
   "cell_type": "markdown",
   "metadata": {},
   "source": [
    "![](https://github.com/timnon/pyschedule/blob/master/pics/gantt.png)"
   ]
  },
  {
   "cell_type": "markdown",
   "metadata": {},
   "source": [
    "pyschedule is the easiest way to match tasks with resources. Do you need to plan a conference or schedule your employees and there are a lot of requirements to satisfy, like availability of rooms or maximal allowed working times? Then pyschedule might be for you. Install it with pip:"
   ]
  },
  {
   "cell_type": "markdown",
   "metadata": {},
   "source": [
    "$ pip install pyschedule"
   ]
  },
  {
   "cell_type": "markdown",
   "metadata": {},
   "source": [
    "Here is a hello world example, you can also find this document as a <a href=\"https://github.com/timnon/pyschedule-notebooks/blob/master/README.ipynb\">notebook</a>. There are more example notebooks <a href=\"https://github.com/timnon/pyschedule-notebooks/\">here</a> and simpler examples in the <a href=\"https://github.com/timnon/pyschedule/tree/master/examples\">examples folder</a>. For a technical overview go to <a href=\"https://github.com/timnon/pyschedule/blob/master/docs/pyschedule-overview.md\">here</a>."
   ]
  },
  {
   "cell_type": "code",
   "execution_count": null,
   "metadata": {},
   "outputs": [],
   "source": [
    "# Load pyschedule and create a scenario with ten steps planning horizon\n",
    "from pyschedule import Scenario, solvers, plotters\n",
    "S = Scenario('hello_pyschedule',horizon=10)\n",
    "\n",
    "# Create two resources\n",
    "Alice, Bob = S.Resource('Alice'), S.Resource('Bob')\n",
    "\n",
    "# Create three tasks with lengths 1,2 and 3\n",
    "cook, wash, clean = S.Task('cook',1), S.Task('wash',2), S.Task('clean',3)\n",
    "\n",
    "# Assign tasks to resources, either Alice or Bob,\n",
    "# the %-operator connects tasks and resource\n",
    "cook += Alice|Bob\n",
    "wash += Alice|Bob\n",
    "clean += Alice|Bob\n",
    "\n",
    "# Solve and print solution\n",
    "S.use_makespan_objective()\n",
    "solvers.mip.solve(S,msg=1)\n",
    "\n",
    "# Print the solution\n",
    "print(S.solution())"
   ]
  },
  {
   "cell_type": "markdown",
   "metadata": {},
   "source": [
    "In this example we use a makespan objective which means that we want to minimize the completion time of the last task. Hence, Bob should do the cooking from 0 to 1 and then do the washing from 1 to 3, whereas Alice will only do the cleaning from 0 to 3. This will ensure that both are done after three hours. This table representation is a little hard to read, we can visualize the plan using matplotlib:\n"
   ]
  },
  {
   "cell_type": "code",
   "execution_count": null,
   "metadata": {},
   "outputs": [],
   "source": [
    "%matplotlib inline\n",
    "plotters.matplotlib.plot(S,fig_size=(10,5))"
   ]
  },
  {
   "cell_type": "markdown",
   "metadata": {},
   "source": [
    "pyschedule supports different solvers, classical <a href=\"https://en.wikipedia.org/wiki/Integer_programming\">MIP</a>- as well as <a href=\"https://en.wikipedia.org/wiki/Constraint_programming\">CP</a>-based ones. All solvers and their capabilities are listed in the <a href=\"https://github.com/timnon/pyschedule/blob/master/docs/pyschedule-overview.md\">overview notebook</a>. The default solver used above uses a standard MIP-model in combination with <a href=\"https://projects.coin-or.org/Cbc\">CBC</a>, which is part of package <a href=\"https://pypi.python.org/pypi/PuLP\">pulp</a>. If you have <a href=\"http://scip.zib.de/\">SCIP</a> installed (command \"scip\" must be running), you can easily switch to SCIP using:"
   ]
  }
 ],
 "metadata": {
  "anaconda-cloud": {},
  "kernelspec": {
   "display_name": "Python 3",
   "language": "python",
   "name": "python3"
  },
  "language_info": {
   "codemirror_mode": {
    "name": "ipython",
    "version": 3
   },
   "file_extension": ".py",
   "mimetype": "text/x-python",
   "name": "python",
   "nbconvert_exporter": "python",
   "pygments_lexer": "ipython3",
   "version": "3.7.8"
  }
 },
 "nbformat": 4,
 "nbformat_minor": 1
}
