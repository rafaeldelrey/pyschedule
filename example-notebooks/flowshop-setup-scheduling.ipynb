{
 "cells": [
  {
   "cell_type": "markdown",
   "metadata": {},
   "source": [
    "# Flow Show Scheduling with Setup Costs"
   ]
  },
  {
   "cell_type": "code",
   "execution_count": null,
   "metadata": {},
   "outputs": [],
   "source": [
    "from pyschedule import Scenario, solvers, plotters\n",
    "\n",
    "horizon = 30\n",
    "S = Scenario('flow_setup_scheduling',horizon=horizon)\n",
    "hide_tasks = list()\n",
    "\n",
    "# three machines\n",
    "M1, M2, M3 = S.Resource('M1'), S.Resource('M2'), S.Resource('M3')\n",
    "\n",
    "# task groups A\n",
    "A_color = '#E68B07'\n",
    "A_M1 = S.Tasks(name='A_M1',n_tasks=2,length=2,setup_state_A=2,is_group=True,plot_color=A_color)\n",
    "A_M1 += M1\n",
    "A_M2 = S.Tasks(name='A_M2',n_tasks=2,length=1+3,is_group=True,plot_color=A_color)\n",
    "A_M2 += M2\n",
    "A_M3 = S.Tasks(name='A_M3',n_tasks=2,length=1+2,is_group=True,plot_color=A_color)\n",
    "A_M3 += M3\n",
    "\n",
    "# task groups B\n",
    "B_color = '#37F810'\n",
    "B_M1 = S.Tasks(name='B_M1',n_tasks=3,length=1,setup_state_B=2,is_group=True,plot_color=B_color)\n",
    "B_M1 += M1\n",
    "B_M2 = S.Tasks(name='B_M2',n_tasks=3,length=1+3,is_group=True,plot_color=B_color)\n",
    "B_M2 += M2\n",
    "B_M3 = S.Tasks(name='B_M3',n_tasks=3,length=1+2,is_group=True,plot_color=B_color)\n",
    "B_M3 += M3\n",
    "\n",
    "# precedence constraints\n",
    "S += A_M1 <= A_M2, A_M2 <= A_M3\n",
    "S += B_M1 <= B_M2, B_M2 <= B_M3\n",
    "S += A_M1 > 1 # first task need to be a setup task\n",
    "S += B_M1 > 1 # first task need to be a setup task\n",
    "\n",
    "# setup tasks to move from setup state 0 to 2\n",
    "SA = S.Tasks(name='SA_M1',n_tasks=horizon,setup_state_A=1,schedule_cost=1000,is_group=True,plot_color=A_color)\n",
    "SA += M1\n",
    "SB = S.Tasks(name='SB_M1',n_tasks=horizon,setup_state_B=1,schedule_cost=1000,is_group=True,plot_color=B_color)\n",
    "SB += M1\n",
    "\n",
    "# fill tasks with no schedule cost and setup state 2 to bridge the gap between real tasks\n",
    "FA = S.Tasks(name='FA_M1',n_tasks=horizon,setup_state_A=2,schedule_cost=0,is_group=True,plot_color=None)\n",
    "FA += M1\n",
    "S += FA > 1 # first task need to be a setup task\n",
    "FB = S.Tasks(name='FB_M1',n_tasks=horizon,setup_state_B=2,schedule_cost=0,is_group=True,plot_color=None)\n",
    "FB += M1\n",
    "S += FB > 1 # first task need to be a setup task\n",
    "\n",
    "\n",
    "# each setup state is only allowed to increase by 1 in every step\n",
    "# hence, we need to run a setup task with setup state 1 before moving on\n",
    "# to a real task with setup state 2\n",
    "for t in range(horizon):\n",
    "    S += M1['setup_state_A'][t:t+2].inc <= 1\n",
    "    S += M1['setup_state_B'][t:t+2].inc <= 1"
   ]
  },
  {
   "cell_type": "code",
   "execution_count": null,
   "metadata": {
    "scrolled": false
   },
   "outputs": [],
   "source": [
    "S.use_makespan_objective()\n",
    "\n",
    "def run(S) :\n",
    "    if solvers.mip.solve(S):\n",
    "        plotters.plotly.plot(S)\n",
    "    else:\n",
    "        print('no solution exists')\n",
    "run(S)"
   ]
  }
 ],
 "metadata": {
  "anaconda-cloud": {},
  "kernelspec": {
   "display_name": "Python 3",
   "language": "python",
   "name": "python3"
  },
  "language_info": {
   "codemirror_mode": {
    "name": "ipython",
    "version": 3
   },
   "file_extension": ".py",
   "mimetype": "text/x-python",
   "name": "python",
   "nbconvert_exporter": "python",
   "pygments_lexer": "ipython3",
   "version": "3.7.8"
  }
 },
 "nbformat": 4,
 "nbformat_minor": 2
}
